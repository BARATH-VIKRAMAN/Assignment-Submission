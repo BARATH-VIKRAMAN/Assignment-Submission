{
 "cells": [
  {
   "cell_type": "code",
   "execution_count": 1,
   "metadata": {},
   "outputs": [],
   "source": [
    "#Write a Python program to remove empty List from List."
   ]
  },
  {
   "cell_type": "code",
   "execution_count": 4,
   "metadata": {},
   "outputs": [
    {
     "name": "stdout",
     "output_type": "stream",
     "text": [
      "[1, 2, 3, 4, 5, 6]\n"
     ]
    }
   ],
   "source": [
    "list1 = [1,2,[],3,4,[],5,[],6]\n",
    "\n",
    "removed_list = list(filter(None,list1))\n",
    "print(removed_list)"
   ]
  },
  {
   "cell_type": "code",
   "execution_count": 5,
   "metadata": {},
   "outputs": [],
   "source": [
    "#Write a Python program to remove all duplicates words from a given sentence"
   ]
  },
  {
   "cell_type": "code",
   "execution_count": 21,
   "metadata": {},
   "outputs": [
    {
     "name": "stdout",
     "output_type": "stream",
     "text": [
      "Python 3 is better than 2\n"
     ]
    }
   ],
   "source": [
    "sentence = \"Python 3 is better than Python 2\"\n",
    "\n",
    "splited = sentence.split()\n",
    "i = []\n",
    "\n",
    "for j in splited:\n",
    "    if((j not in i) or sentence.count(j)==1):\n",
    "        i.append(j)\n",
    "print(\" \".join(i))\n",
    "    "
   ]
  },
  {
   "cell_type": "code",
   "execution_count": 22,
   "metadata": {},
   "outputs": [],
   "source": [
    "#Write a Python program to find all occurrences of a character in the given string"
   ]
  },
  {
   "cell_type": "code",
   "execution_count": 27,
   "metadata": {},
   "outputs": [
    {
     "name": "stdout",
     "output_type": "stream",
     "text": [
      "e is found at position  12\n",
      "e is found at position  16\n"
     ]
    }
   ],
   "source": [
    "str1 = \"Python is very easy\"\n",
    "char = \"e\"\n",
    "\n",
    "for letter in range(len(str1)):\n",
    "    if(char == str1[letter]):\n",
    "        print(\"e is found at position \", letter+1)"
   ]
  },
  {
   "cell_type": "code",
   "execution_count": null,
   "metadata": {},
   "outputs": [],
   "source": []
  }
 ],
 "metadata": {
  "kernelspec": {
   "display_name": "Python 3",
   "language": "python",
   "name": "python3"
  },
  "language_info": {
   "codemirror_mode": {
    "name": "ipython",
    "version": 3
   },
   "file_extension": ".py",
   "mimetype": "text/x-python",
   "name": "python",
   "nbconvert_exporter": "python",
   "pygments_lexer": "ipython3",
   "version": "3.7.3"
  }
 },
 "nbformat": 4,
 "nbformat_minor": 2
}
